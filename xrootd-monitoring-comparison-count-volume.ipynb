{
 "cells": [
  {
   "cell_type": "markdown",
   "metadata": {},
   "source": [
    "## [1] File count and transfer volume based on the Grafana"
   ]
  },
  {
   "cell_type": "code",
   "execution_count": 1,
   "metadata": {
    "scrolled": false
   },
   "outputs": [
    {
     "name": "stdout",
     "output_type": "stream",
     "text": [
      "INFO UTC HOUR NOW: 16\n",
      "INFO UTC HOUR NOW: 16 Site=T2_US_Florida Wanted Date=2019-04-05 Search Tim=2019-04-06T10\n",
      "INFO grafana_numbers on 2019-04-06 from 10:00:00 10:59:59\n",
      "INFO File Count: 3186\n",
      "INFO Transf Vol: 1481.62GB\n"
     ]
    }
   ],
   "source": [
    "%%bash\n",
    "# Grafana Parameters\n",
    "grafana=\"https://monit-grafana.cern.ch/api/datasources/proxy/8035/query?db=monit_production_transfer\" \n",
    "field_keys=\"src_experiment_site,count,transferred_volume,avg_operation_time,avg_file_size\"\n",
    "rp=\"one_month\"\n",
    "experiment=\"transfer_xrootd\"\n",
    "\n",
    "# Day Parameters and Input Parameters\n",
    "HOUR_Z=$(date -u +%H)\n",
    "echo INFO UTC HOUR NOW: $HOUR_Z\n",
    "HOUR_W=10\n",
    "YMD=2019-04-05\n",
    "YMD_1DAY=$(date -d \"1 day $YMD\" +%Y-%m-%d)\n",
    "input_root=xmfar-2019-04-partial.root\n",
    "wanted=$YMD\n",
    "TIME=${YMD_1DAY}T${HOUR_W}\n",
    "\n",
    "wanted_day=$(date -d \"$wanted\" +%d) ; today=$(date +%d)\n",
    "days_ago=$(expr $today - $wanted_day)\n",
    "\n",
    "pastfuture=\"ago\" ; [ $days_ago -lt 0 ] && pastfuture=\"\" ; Ymd=$(date -d \"$days_ago days $pastfuture\" +%Y-%m-%d) ; wanted_day_plus_1=$(date -d \"1 day $Ymd\" +%d)\n",
    "days_ago_plus_1=$(expr $today - $wanted_day_plus_1)\n",
    "\n",
    "# Site\n",
    "s=T2_US_Florida\n",
    "\n",
    "# Grafana search condition\n",
    "condition=\"vo='cms' AND remote_access =~ /^true/  AND technology = 'xrootd' AND time >= now() - ${days_ago}d and time <= now() - ${days_ago_plus_1}d AND src_experiment_site = '$s'\"\n",
    "echo INFO UTC HOUR NOW: $HOUR_Z Site=$s Wanted Date=$wanted Search Tim=$TIME\n",
    "\n",
    "volume=0.0\n",
    "countsum=0\n",
    "grafana_number=$(curl -G -H \"Authorization: Bearer $(cat token.txt)\" \"$grafana\" --data-urlencode \\\n",
    "  \"q=SELECT $field_keys from ${rp}.${experiment} WHERE $condition\" 2>/dev/null | \\\n",
    "  sed \"s#\\[\\\"#\\n\\[\\\"#g\" | \\\n",
    "  grep \"\\[\\\"[0-9][0-9][0-9][0-9]\" | grep $TIME | \\\n",
    "  while read line ; do \n",
    "     time=$(echo $line | cut -d\\\" -f2)\n",
    "     transferred_volume=$(echo $line | cut -d, -f4)\n",
    "     count=$(echo $line | cut -d, -f3)\n",
    "     volume=$(echo \"scale=2 ; $volume + $transferred_volume\" | bc )\n",
    "     countsum=$(echo \"scale=2 ; $countsum + $count\" | bc)\n",
    "     echo $time $volume $(echo \"scale=2 ; $volume / 1024 / 1024\" | bc)\"MB\" $countsum $transferred_volume\n",
    "   done | tail -1)\n",
    "   \n",
    "echo INFO grafana_numbers on $(echo $TIME | cut -dT -f1) from $HOUR_W:00:00 $HOUR_W:59:59\n",
    "echo INFO \"File Count\": $(echo $grafana_number | awk '{print $(NF-1)}')\n",
    "#TranferVol=$(echo $grafana_number | awk '{print $(NF-2)}' | sed 's#MB##')\n",
    "TranferVol=$(echo $grafana_number | awk '{print $(NF-2)}' | sed 's#MB##')\n",
    "echo INFO \"Transf Vol\": $(echo \"scale=2 ; $TranferVol / 1024 \" | bc)\"GB\"\n"
   ]
  },
  {
   "cell_type": "markdown",
   "metadata": {},
   "source": [
    "## [2] File count based on the root file at UCSD collector:\n",
    "root://gftp-1.t2.ucsd.edu:1094//store/user/matevz/xmfar-2019-04-partial.root"
   ]
  },
  {
   "cell_type": "code",
   "execution_count": 1,
   "metadata": {},
   "outputs": [
    {
     "name": "stdout",
     "output_type": "stream",
     "text": [
      "INFO UTC HOUR NOW: 16\n",
      "INFO xrd_numbers on 2019-04-06 from 10:00:00 10:59:59\n",
      "INFO rBsum_count : 1537273.33482 5143\n",
      "INFO File Count: 5143\n",
      "INFO Transf Vol: 1501.24GB\n"
     ]
    },
    {
     "name": "stderr",
     "output_type": "stream",
     "text": [
      "TClass::Init:0: RuntimeWarning: no dictionary for class SXrdFileInfo is available\n",
      "TClass::Init:0: RuntimeWarning: no dictionary for class SRange is available\n",
      "TClass::Init:0: RuntimeWarning: no dictionary for class SXrdUserInfo is available\n",
      "TClass::Init:0: RuntimeWarning: no dictionary for class SXrdServerInfo is available\n"
     ]
    }
   ],
   "source": [
    "%%bash\n",
    "# Day Parameters and Input Parameters\n",
    "HOUR_Z=$(date -u +%H)\n",
    "echo INFO UTC HOUR NOW: $HOUR_Z\n",
    "HOUR_W=10\n",
    "YMD=2019-04-05\n",
    "YMD_1DAY=$(date -d \"1 day $YMD\" +%Y-%m-%d)\n",
    "input_root=xmfar-2019-04-partial.root\n",
    "wanted=$YMD\n",
    "TIME=${YMD_1DAY}T${HOUR_W}\n",
    "\n",
    "wanted_day=$(date -d \"$wanted\" +%d) ; today=$(date +%d)\n",
    "days_ago=$(expr $today - $wanted_day)\n",
    "\n",
    "pastfuture=\"ago\" ; [ $days_ago -lt 0 ] && pastfuture=\"\" ; Ymd=$(date -d \"$days_ago days $pastfuture\" +%Y-%m-%d) ; wanted_day_plus_1=$(date -d \"1 day $Ymd\" +%d)\n",
    "days_ago_plus_1=$(expr $today - $wanted_day_plus_1)\n",
    "\n",
    "# Site\n",
    "s=T2_US_Florida\n",
    "\n",
    "cat << 'EOF' > readxmfarROOT.py\n",
    "import os\n",
    "import sys\n",
    "import ROOT\n",
    "import string\n",
    "from datetime import datetime\n",
    "    \n",
    "root_file=\"xmfar-2019-04-partial.root\"\n",
    "root_file=str(sys.argv[1])\n",
    "#YMD=str(sys.argv[2])\n",
    "#YMD_1DAY=str(sys.argv[3])\n",
    "TIME=str(sys.argv[2])\n",
    "tfile = ROOT.TFile.Open(root_file)\n",
    "tree = tfile.Get(\"XrdFar\")\n",
    "count=0\n",
    "rBsum=0.0\n",
    "for entry in tree:\n",
    "    sN=str(getattr(entry,'S.mSite'))\n",
    "    if 'T2_US_Florida' not in sN : continue\n",
    "    rB=entry.GetLeaf('F.mRTotalMB').GetValue()\n",
    "    wB=entry.GetLeaf('F.mWTotalMB').GetValue()\n",
    "    t1=entry.GetLeaf('F.mOpenTime').GetValue()\n",
    "    t2=entry.GetLeaf('F.mCloseTime').GetValue()\n",
    "    sB=entry.GetLeaf('F.mSizeMB').GetValue()\n",
    "    ap=str(getattr(entry,'U.mAppInfo'))\n",
    "    lF=str(getattr(entry,'F.mName'))\n",
    "    rN=str(getattr(entry,'U.mRealName'))\n",
    "    closetime=str(datetime.utcfromtimestamp(t2).strftime('%Y-%m-%dT%H:%M:%SZ'))\n",
    "    if TIME not in closetime: continue\n",
    "    count=count+1\n",
    "    #print datetime.utcfromtimestamp(t2).strftime('%Y-%m-%dT%H:%M:%SZ'),\" \",\"[\",i,\"]\",\" \",t2,\" \",t1,\" \",rB,\" \",wB,\" \",sB,\" \",sN,\" \",lF,rN,ap\n",
    "    rBsum=rBsum+rB\n",
    "print rBsum,\" \",count\n",
    "EOF\n",
    "rBsum_count=$(python readxmfarROOT.py $input_root $TIME | tail -1)\n",
    "echo INFO xrd_numbers on $(echo $TIME | cut -dT -f1) from $HOUR_W:00:00 $HOUR_W:59:59\n",
    "echo INFO rBsum_count : $rBsum_count\n",
    "echo INFO \"File Count\": $(echo $rBsum_count | awk '{print $NF}')\n",
    "TranferVol=$(echo $rBsum_count | awk '{print $(NF-1)}')\n",
    "echo INFO \"Transf Vol\": $(echo \"scale=2 ; $TranferVol / 1024 \" | bc)\"GB\"\n"
   ]
  },
  {
   "cell_type": "markdown",
   "metadata": {},
   "source": [
    "## Xrdmon and Grafana Transfer Volume Difference in %"
   ]
  },
  {
   "cell_type": "code",
   "execution_count": 6,
   "metadata": {},
   "outputs": [
    {
     "name": "stdout",
     "output_type": "stream",
     "text": [
      "Xrdmon and Grafana Transfer Volume Difference in % : 1.00 %\n"
     ]
    }
   ],
   "source": [
    "%%bash\n",
    "echo Xrdmon and Grafana Transfer Volume Difference in % : $(echo \"scale=2 ; (1501.24 -  1481.62 ) / 1501.24 * 100 \" | bc) %"
   ]
  },
  {
   "cell_type": "markdown",
   "metadata": {},
   "source": [
    "## Xrdmon and Grafana File Count Difference "
   ]
  },
  {
   "cell_type": "code",
   "execution_count": 5,
   "metadata": {},
   "outputs": [
    {
     "name": "stdout",
     "output_type": "stream",
     "text": [
      "Xrdmon and Grafana File Count Difference : 1957 files\n"
     ]
    }
   ],
   "source": [
    "%%bash\n",
    "echo Xrdmon and Grafana File Count Difference : $( expr 5143 - 3186 ) files"
   ]
  },
  {
   "cell_type": "code",
   "execution_count": null,
   "metadata": {
    "collapsed": true
   },
   "outputs": [],
   "source": []
  }
 ],
 "metadata": {
  "kernelspec": {
   "display_name": "Python 2",
   "language": "python",
   "name": "python2"
  },
  "language_info": {
   "codemirror_mode": {
    "name": "ipython",
    "version": 2
   },
   "file_extension": ".py",
   "mimetype": "text/x-python",
   "name": "python",
   "nbconvert_exporter": "python",
   "pygments_lexer": "ipython2",
   "version": "2.7.13"
  }
 },
 "nbformat": 4,
 "nbformat_minor": 2
}
