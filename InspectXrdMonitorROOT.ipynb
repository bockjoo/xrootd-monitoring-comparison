{
 "cells": [
  {
   "cell_type": "markdown",
   "metadata": {},
   "source": [
    "# Inspect Xmfar File Matevz Sent"
   ]
  },
  {
   "cell_type": "code",
   "execution_count": 1,
   "metadata": {
    "collapsed": true
   },
   "outputs": [],
   "source": [
    "#%%bash\n",
    "#echo $X509_USER_PROXY"
   ]
  },
  {
   "cell_type": "code",
   "execution_count": 2,
   "metadata": {},
   "outputs": [
    {
     "data": {
      "application/javascript": [
       "\n",
       "require(['notebook'],\n",
       "  function() {\n",
       "    IPython.CodeCell.config_defaults.highlight_modes['magic_text/x-c++src'] = {'reg':[/^%%cpp/]};\n",
       "    console.log(\"JupyROOT - %%cpp magic configured\");\n",
       "  }\n",
       ");\n"
      ]
     },
     "metadata": {},
     "output_type": "display_data"
    },
    {
     "name": "stdout",
     "output_type": "stream",
     "text": [
      "Welcome to JupyROOT 6.07/07\n"
     ]
    }
   ],
   "source": [
    "import os\n",
    "import sys\n",
    "import ROOT\n",
    "\n",
    "%jsroot on\n",
    "# voms-proxy-init generated user proxy file to access the xrootd servers\n",
    "if os.path.isfile(os.environ['X509_USER_PROXY']):\n",
    "    pass\n",
    "else:\n",
    "    print \"os.environ['X509_USER_PROXY'] \",os.environ['X509_USER_PROXY']\n",
    "    print \"You need to put your grid proxy somewhere, e.g., /eos/user/<your alpha>/<Username>\"\n",
    "    sys.exit(1)\n",
    "#os.environ['X509_CERT_DIR'] = '/cvmfs/grid.cern.ch/etc/grid-security/certificates'\n",
    "#os.environ['X509_VOMS_DIR'] = '/cvmfs/grid.cern.ch/etc/grid-security/vomsdir'\n",
    "os.environ['X509_CERT_DIR'] = '/cvmfs/cms.cern.ch/grid/etc/grid-security/certificates'\n",
    "os.environ['X509_VOMS_DIR'] = '/cvmfs/cms.cern.ch/grid/etc/grid-security/vomsdir'\n",
    "    \n",
    "root_file=\"root://cms-xrd-global.cern.ch//store/user/nvanegas/BckgndW+Jets/tag_1_delphes_events01.root\"\n",
    "root_file=\"root://gftp-1.t2.ucsd.edu:1094//store/user/matevz/xmfar-2019-04-partial.root\"\n",
    "root_file=\"xmfar-2019-04-partial.root\"\n",
    "#tfil = ROOT.TFile(root_file)\n",
    "tfile = ROOT.TFile.Open(root_file)\n",
    "\n",
    "#print \"Listing Tree\"\n",
    "tfile.ls()"
   ]
  },
  {
   "cell_type": "code",
   "execution_count": 3,
   "metadata": {},
   "outputs": [
    {
     "name": "stdout",
     "output_type": "stream",
     "text": [
      "TFile**\t\txmfar-2019-04-partial.root\tchain files\n",
      " TFile*\t\txmfar-2019-04-partial.root\tchain files\n",
      "  KEY: TTree\tXrdFar;1\tXrootd File Close Reports\n"
     ]
    }
   ],
   "source": [
    "tfile.ls()"
   ]
  },
  {
   "cell_type": "code",
   "execution_count": 4,
   "metadata": {
    "collapsed": true
   },
   "outputs": [],
   "source": [
    "tree = tfile.Get(\"XrdFar\")"
   ]
  },
  {
   "cell_type": "code",
   "execution_count": 5,
   "metadata": {
    "scrolled": false
   },
   "outputs": [
    {
     "name": "stdout",
     "output_type": "stream",
     "text": [
      "******************************************************************************\n",
      "*Tree    :XrdFar    : Xrootd File Close Reports                              *\n",
      "*Entries : 23234202 : Total =     24016823109 bytes  File  Size = 4161738425 *\n",
      "*        :          : Tree compression factor =   5.78                       *\n",
      "******************************************************************************\n",
      "*Branch  :F.                                                                 *\n",
      "*Entries : 23234202 : BranchElement (see below)                              *\n",
      "*............................................................................*\n",
      "*Br    0 :F.mName   : TString                                                *\n",
      "*Entries :23234202 : Total  Size= 3786337825 bytes  File Size  = 809077989 *\n",
      "*Baskets :    44805 : Basket Size=     138240 bytes  Compression=   4.68     *\n",
      "*............................................................................*\n",
      "*Br    1 :F.mOpenTime : Long64_t                                             *\n",
      "*Entries : 23234202 : Total  Size=  188199838 bytes  File Size  =   57493596 *\n",
      "*Baskets :    23259 : Basket Size=       8704 bytes  Compression=   3.27     *\n",
      "*............................................................................*\n",
      "*Br    2 :F.mCloseTime : Long64_t                                            *\n",
      "*Entries : 23234202 : Total  Size=  188223101 bytes  File Size  =   40385645 *\n",
      "*Baskets :    23259 : Basket Size=       8704 bytes  Compression=   4.65     *\n",
      "*............................................................................*\n",
      "*Br    3 :F.mReadStats :                                                     *\n",
      "*Entries : 23234202 : Total  Size=    2328297 bytes  One basket in memory    *\n",
      "*Baskets :        0 : Basket Size=      32000 bytes  Compression=   1.00     *\n",
      "*............................................................................*\n",
      "*Br    4 :F.mReadStats.mMin : Double_t                                       *\n",
      "*Entries : 23234202 : Total  Size=  188339416 bytes  File Size  =   53412597 *\n",
      "*Baskets :    23259 : Basket Size=       8704 bytes  Compression=   3.52     *\n",
      "*............................................................................*\n",
      "*Br    5 :F.mReadStats.mMax : Double_t                                       *\n",
      "*Entries : 23234202 : Total  Size=  188339416 bytes  File Size  =   85187029 *\n",
      "*Baskets :    23259 : Basket Size=       8704 bytes  Compression=   2.21     *\n",
      "*............................................................................*\n",
      "*Br    6 :F.mReadStats.mSumX : Double_t                                      *\n",
      "*Entries : 23234202 : Total  Size=  188362679 bytes  File Size  =   92962592 *\n",
      "*Baskets :    23259 : Basket Size=       8704 bytes  Compression=   2.02     *\n",
      "*............................................................................*\n",
      "*Br    7 :F.mReadStats.mSumX2 : Double_t                                     *\n",
      "*Entries : 23234202 : Total  Size=  188385942 bytes  File Size  =  125467690 *\n",
      "*Baskets :    23259 : Basket Size=       8704 bytes  Compression=   1.50     *\n",
      "*............................................................................*\n",
      "*Br    8 :F.mReadStats.mN : ULong64_t                                        *\n",
      "*Entries : 23234202 : Total  Size=  188292890 bytes  File Size  =   39396084 *\n",
      "*Baskets :    23259 : Basket Size=       8704 bytes  Compression=   4.77     *\n",
      "*............................................................................*\n",
      "*Br    9 :F.mSingleReadStats :                                               *\n",
      "*Entries : 23234202 : Total  Size=    2328429 bytes  One basket in memory    *\n",
      "*Baskets :        0 : Basket Size=      32000 bytes  Compression=   1.00     *\n",
      "*............................................................................*\n",
      "*Br   10 :F.mSingleReadStats.mMin : Double_t                                 *\n",
      "*Entries : 23234202 : Total  Size=  188478994 bytes  File Size  =   45137761 *\n",
      "*Baskets :    23259 : Basket Size=       8704 bytes  Compression=   4.17     *\n",
      "*............................................................................*\n",
      "*Br   11 :F.mSingleReadStats.mMax : Double_t                                 *\n",
      "*Entries : 23234202 : Total  Size=  188478994 bytes  File Size  =   71339509 *\n",
      "*Baskets :    23259 : Basket Size=       8704 bytes  Compression=   2.64     *\n",
      "*............................................................................*\n",
      "*Br   12 :F.mSingleReadStats.mSumX : Double_t                                *\n",
      "*Entries : 23234202 : Total  Size=  188502257 bytes  File Size  =   81310952 *\n",
      "*Baskets :    23259 : Basket Size=       8704 bytes  Compression=   2.31     *\n",
      "*............................................................................*\n",
      "*Br   13 :F.mSingleReadStats.mSumX2 : Double_t                               *\n",
      "*Entries : 23234202 : Total  Size=  188525520 bytes  File Size  =  107203789 *\n",
      "*Baskets :    23259 : Basket Size=       8704 bytes  Compression=   1.75     *\n",
      "*............................................................................*\n",
      "*Br   14 :F.mSingleReadStats.mN : ULong64_t                                  *\n",
      "*Entries : 23234202 : Total  Size=  188432468 bytes  File Size  =   36910708 *\n",
      "*Baskets :    23259 : Basket Size=       8704 bytes  Compression=   5.09     *\n",
      "*............................................................................*\n",
      "*Br   15 :F.mVecReadStats :                                                  *\n",
      "*Entries : 23234202 : Total  Size=    2328363 bytes  One basket in memory    *\n",
      "*Baskets :        0 : Basket Size=      32000 bytes  Compression=   1.00     *\n",
      "*............................................................................*\n",
      "*Br   16 :F.mVecReadStats.mMin : Double_t                                    *\n",
      "*Entries : 23234202 : Total  Size=  188409205 bytes  File Size  =   50242769 *\n",
      "*Baskets :    23259 : Basket Size=       8704 bytes  Compression=   3.74     *\n",
      "*............................................................................*\n",
      "*Br   17 :F.mVecReadStats.mMax : Double_t                                    *\n",
      "*Entries : 23234202 : Total  Size=  188409205 bytes  File Size  =   57231896 *\n",
      "*Baskets :    23259 : Basket Size=       8704 bytes  Compression=   3.28     *\n",
      "*............................................................................*\n",
      "*Br   18 :F.mVecReadStats.mSumX : Double_t                                   *\n",
      "*Entries : 23234202 : Total  Size=  188432468 bytes  File Size  =   60341831 *\n",
      "*Baskets :    23259 : Basket Size=       8704 bytes  Compression=   3.12     *\n",
      "*............................................................................*\n",
      "*Br   19 :F.mVecReadStats.mSumX2 : Double_t                                  *\n",
      "*Entries : 23234202 : Total  Size=  188455731 bytes  File Size  =   80650044 *\n",
      "*Baskets :    23259 : Basket Size=       8704 bytes  Compression=   2.33     *\n",
      "*............................................................................*\n",
      "*Br   20 :F.mVecReadStats.mN : ULong64_t                                     *\n",
      "*Entries : 23234202 : Total  Size=  188362679 bytes  File Size  =   24837059 *\n",
      "*Baskets :    23259 : Basket Size=       8704 bytes  Compression=   7.57     *\n",
      "*............................................................................*\n",
      "*Br   21 :F.mVecReadCntStats :                                               *\n",
      "*Entries : 23234202 : Total  Size=    2328429 bytes  One basket in memory    *\n",
      "*Baskets :        0 : Basket Size=      32000 bytes  Compression=   1.00     *\n",
      "*............................................................................*\n",
      "*Br   22 :F.mVecReadCntStats.mMin : Double_t                                 *\n",
      "*Entries : 23234202 : Total  Size=  188478994 bytes  File Size  =   25726189 *\n",
      "*Baskets :    23259 : Basket Size=       8704 bytes  Compression=   7.31     *\n",
      "*............................................................................*\n",
      "*Br   23 :F.mVecReadCntStats.mMax : Double_t                                 *\n",
      "*Entries : 23234202 : Total  Size=  188478994 bytes  File Size  =   33369023 *\n",
      "*Baskets :    23259 : Basket Size=       8704 bytes  Compression=   5.63     *\n",
      "*............................................................................*\n",
      "*Br   24 :F.mVecReadCntStats.mSumX : Double_t                                *\n",
      "*Entries : 23234202 : Total  Size=  188502257 bytes  File Size  =   38173074 *\n",
      "*Baskets :    23259 : Basket Size=       8704 bytes  Compression=   4.93     *\n",
      "*............................................................................*\n",
      "*Br   25 :F.mVecReadCntStats.mSumX2 : Double_t                               *\n",
      "*Entries : 23234202 : Total  Size=  188525520 bytes  File Size  =   46399087 *\n",
      "*Baskets :    23259 : Basket Size=       8704 bytes  Compression=   4.05     *\n",
      "*............................................................................*\n",
      "*Br   26 :F.mVecReadCntStats.mN : ULong64_t                                  *\n",
      "*Entries : 23234202 : Total  Size=  188432468 bytes  File Size  =   24906836 *\n",
      "*Baskets :    23259 : Basket Size=       8704 bytes  Compression=   7.55     *\n",
      "*............................................................................*\n",
      "*Br   27 :F.mWriteStats :                                                    *\n",
      "*Entries : 23234202 : Total  Size=    2328319 bytes  One basket in memory    *\n",
      "*Baskets :        0 : Basket Size=      32000 bytes  Compression=   1.00     *\n",
      "*............................................................................*\n",
      "*Br   28 :F.mWriteStats.mMin : Double_t                                      *\n",
      "*Entries : 23234202 : Total  Size=  188362679 bytes  File Size  =    3511270 *\n",
      "*Baskets :    23259 : Basket Size=       8704 bytes  Compression=  53.51     *\n",
      "*............................................................................*\n",
      "*Br   29 :F.mWriteStats.mMax : Double_t                                      *\n",
      "*Entries : 23234202 : Total  Size=  188362679 bytes  File Size  =    3511270 *\n",
      "*Baskets :    23259 : Basket Size=       8704 bytes  Compression=  53.51     *\n",
      "*............................................................................*\n",
      "*Br   30 :F.mWriteStats.mSumX : Double_t                                     *\n",
      "*Entries : 23234202 : Total  Size=  188385942 bytes  File Size  =    3534529 *\n",
      "*Baskets :    23259 : Basket Size=       8704 bytes  Compression=  53.17     *\n",
      "*............................................................................*\n",
      "*Br   31 :F.mWriteStats.mSumX2 : Double_t                                    *\n",
      "*Entries : 23234202 : Total  Size=  188409205 bytes  File Size  =    3557788 *\n",
      "*Baskets :    23259 : Basket Size=       8704 bytes  Compression=  52.83     *\n",
      "*............................................................................*\n",
      "*Br   32 :F.mWriteStats.mN : ULong64_t                                       *\n",
      "*Entries : 23234202 : Total  Size=  188316153 bytes  File Size  =    3464752 *\n",
      "*Baskets :    23259 : Basket Size=       8704 bytes  Compression=  54.22     *\n",
      "*............................................................................*\n",
      "*Br   33 :F.mRTotalMB : Double_t                                             *\n",
      "*Entries : 23234202 : Total  Size=  188199838 bytes  File Size  =   69850676 *\n",
      "*Baskets :    23259 : Basket Size=       8704 bytes  Compression=   2.69     *\n",
      "*............................................................................*\n",
      "*Br   34 :F.mWTotalMB : Double_t                                             *\n",
      "*Entries : 23234202 : Total  Size=  188199838 bytes  File Size  =    3350383 *\n",
      "*Baskets :    23259 : Basket Size=       8704 bytes  Compression=  56.03     *\n",
      "*............................................................................*\n",
      "*Br   35 :F.mSizeMB : Double_t                                               *\n",
      "*Entries : 23234202 : Total  Size=  188153312 bytes  File Size  =   79112034 *\n",
      "*Baskets :    23259 : Basket Size=       8704 bytes  Compression=   2.37     *\n",
      "*............................................................................*\n",
      "*Branch  :U.                                                                 *\n",
      "*Entries : 23234202 : BranchElement (see below)                              *\n",
      "*............................................................................*\n",
      "*Br   36 :U.mName   : TString                                                *\n",
      "*Entries : 23234202 : Total  Size= 1337998272 bytes  File Size  =  347863062 *\n",
      "*Baskets :    37607 : Basket Size=      63488 bytes  Compression=   3.84     *\n",
      "*............................................................................*\n",
      "*Br   37 :U.mRealName : TString                                              *\n",
      "*Entries : 23234202 : Total  Size=  679472504 bytes  File Size  =  115890387 *\n",
      "*Baskets :    37609 : Basket Size=      37376 bytes  Compression=   5.86     *\n",
      "*............................................................................*\n",
      "*Br   38 :U.mDN     : TString                                                *\n",
      "*Entries : 23234202 : Total  Size= 1888742736 bytes  File Size  =  172751841 *\n",
      "*Baskets :    33218 : Basket Size=     103936 bytes  Compression=  10.93     *\n",
      "*............................................................................*\n",
      "*Br   39 :U.mVO     : TString                                                *\n",
      "*Entries : 23234202 : Total  Size=  181380136 bytes  File Size  =   51022887 *\n",
      "*Baskets :    45588 : Basket Size=       8704 bytes  Compression=   3.54     *\n",
      "*............................................................................*\n",
      "*Br   40 :U.mRole   : TString                                                *\n",
      "*Entries : 23234202 : Total  Size=  185571267 bytes  File Size  =   59728281 *\n",
      "*Baskets :    45703 : Basket Size=       7680 bytes  Compression=   3.09     *\n",
      "*............................................................................*\n",
      "*Br   41 :U.mGroup  : TString                                                *\n",
      "*Entries : 23234202 : Total  Size=  383685306 bytes  File Size  =   78729031 *\n",
      "*Baskets :    41626 : Basket Size=      20480 bytes  Compression=   4.86     *\n",
      "*............................................................................*\n",
      "*Br   42 :U.mServerUsername : TString                                        *\n",
      "*Entries : 23234202 : Total  Size=  294169842 bytes  File Size  =   86734155 *\n",
      "*Baskets :    44679 : Basket Size=      15360 bytes  Compression=   3.38     *\n",
      "*............................................................................*\n",
      "*Br   43 :U.mFromHost : TString                                              *\n",
      "*Entries : 23234202 : Total  Size=  354445039 bytes  File Size  =  128078060 *\n",
      "*Baskets :    43409 : Basket Size=      18432 bytes  Compression=   2.76     *\n",
      "*............................................................................*\n",
      "*Br   44 :U.mFromDomain : TString                                            *\n",
      "*Entries : 23234202 : Total  Size=  410194680 bytes  File Size  =  107094661 *\n",
      "*Baskets :    45456 : Basket Size=      18944 bytes  Compression=   3.82     *\n",
      "*............................................................................*\n",
      "*Br   45 :U.mProtocol : TString                                              *\n",
      "*Entries : 23234202 : Total  Size=  245099937 bytes  File Size  =   59655349 *\n",
      "*Baskets :    45585 : Basket Size=      11776 bytes  Compression=   4.09     *\n",
      "*............................................................................*\n",
      "*Br   46 :U.mAppInfo : TString                                               *\n",
      "*Entries :23234202 : Total  Size= 7275766098 bytes  File Size  = 345565184 *\n",
      "*Baskets :    90434 : Basket Size=      25088 bytes  Compression=  21.05     *\n",
      "*............................................................................*\n",
      "*Br   47 :U.mLoginTime : Long64_t                                            *\n",
      "*Entries : 23234202 : Total  Size=  188223101 bytes  File Size  =   51834021 *\n",
      "*Baskets :    23259 : Basket Size=       8704 bytes  Compression=   3.62     *\n",
      "*............................................................................*\n",
      "*Br   48 :U.bNumericHost : Bool_t                                            *\n",
      "*Entries : 23234202 : Total  Size=   27929276 bytes  File Size  =    5039519 *\n",
      "*Baskets :    45580 : Basket Size=       1024 bytes  Compression=   5.36     *\n",
      "*............................................................................*\n",
      "*Branch  :S.                                                                 *\n",
      "*Entries : 23234202 : BranchElement (see below)                              *\n",
      "*............................................................................*\n",
      "*Br   49 :S.mHost   : TString                                                *\n",
      "*Entries : 23234202 : Total  Size=  299863105 bytes  File Size  =  109440877 *\n",
      "*Baskets :    43765 : Basket Size=      15360 bytes  Compression=   2.73     *\n",
      "*............................................................................*\n",
      "*Br   50 :S.mDomain : TString                                                *\n",
      "*Entries : 23234202 : Total  Size=  424829055 bytes  File Size  =   86774997 *\n",
      "*Baskets :    45538 : Basket Size=      17408 bytes  Compression=   4.89     *\n",
      "*............................................................................*\n",
      "*Br   51 :S.mSite   : TString                                                *\n",
      "*Entries : 23234202 : Total  Size=  401669272 bytes  File Size  =   85610266 *\n",
      "*Baskets :    45023 : Basket Size=      19456 bytes  Compression=   4.68     *\n",
      "*............................................................................*\n"
     ]
    }
   ],
   "source": [
    "tree.Print()"
   ]
  },
  {
   "cell_type": "code",
   "execution_count": 7,
   "metadata": {
    "scrolled": false
   },
   "outputs": [
    {
     "name": "stdout",
     "output_type": "stream",
     "text": [
      "======> EVENT:1\n",
      " F.              = (SXrdFileInfo*)0x7f3e639407a0\n",
      " F.mName         = /store/data/Run2016H/SingleMuon/MINIAOD/17Jul2018-v1/00000/4868E1FE-718B-E811-B4BD-EC0D9A0B3050.root\n",
      " F.mOpenTime     = 1554101467\n",
      " F.mCloseTime    = 1554102000\n",
      " F.mReadStats.mMin = 0.0161428\n",
      " F.mReadStats.mMax = 15.0957\n",
      " F.mReadStats.mSumX = 76.0473\n",
      " F.mReadStats.mSumX2 = 681.376\n",
      " F.mReadStats.mN = 15\n",
      " F.mSingleReadStats.mMin = 0.0161428\n",
      " F.mSingleReadStats.mMax = 0.0161428\n",
      " F.mSingleReadStats.mSumX = 0.0161428\n",
      " F.mSingleReadStats.mSumX2 = 0.000260591\n",
      " F.mSingleReadStats.mN = 1\n",
      " F.mVecReadStats.mMin = 0.22936\n",
      " F.mVecReadStats.mMax = 15.0957\n",
      " F.mVecReadStats.mSumX = 76.0311\n",
      " F.mVecReadStats.mSumX2 = 681.376\n",
      " F.mVecReadStats.mN = 14\n",
      " F.mVecReadCntStats.mMin = 11\n",
      " F.mVecReadCntStats.mMax = 167\n",
      " F.mVecReadCntStats.mSumX = 558\n",
      " F.mVecReadCntStats.mSumX2 = 43696\n",
      " F.mVecReadCntStats.mN = 14\n",
      " F.mWriteStats.mMin = 0\n",
      " F.mWriteStats.mMax = 0\n",
      " F.mWriteStats.mSumX = 0\n",
      " F.mWriteStats.mSumX2 = 0\n",
      " F.mWriteStats.mN = 0\n",
      " F.mRTotalMB     = 0\n",
      " F.mWTotalMB     = 0\n",
      " F.mSizeMB       = 3994.07\n",
      " U.              = (SXrdUserInfo*)0x7f3e639934b0\n",
      " U.mName         = xroot/cmsprod.349:1025836102@red-c7124.unl.edu\n",
      " U.mRealName     = Joshua Hiltbrand&x=cmsRun&y=\n",
      " U.mDN           = /DC=ch/DC=cern/OU=Organic Units/OU=Users/CN=jhiltbra/CN=798627/CN=Joshua Hiltbrand&x=cmsRun&y=\n",
      " U.mVO           = cms\n",
      " U.mRole         = \n",
      " U.mGroup        = /cms\n",
      " U.mServerUsername = uscms\n",
      " U.mFromHost     = red-c7124\n",
      " U.mFromDomain   = unl.edu\n",
      " U.mProtocol     = xroot\n",
      " U.mAppInfo      = 1205_https://glidein.cern.ch/1205/190329:213848:jhiltbra:crab:SingleMuon::Run2016H-17Jul2018-v1_0\n",
      " U.mLoginTime    = 1554101468\n",
      " U.bNumericHost  = 0\n",
      " S.              = (SXrdServerInfo*)0x7f3e63978810\n",
      " S.mHost         = gftp-1\n",
      " S.mDomain       = t2.ucsd.edu\n",
      " S.mSite         = T2_US_UCSD\n"
     ]
    }
   ],
   "source": [
    "tree.Show(1)"
   ]
  },
  {
   "cell_type": "code",
   "execution_count": 8,
   "metadata": {},
   "outputs": [
    {
     "name": "stdout",
     "output_type": "stream",
     "text": [
      "Entries =  23234202\n"
     ]
    }
   ],
   "source": [
    "entries=tree.GetEntriesFast()\n",
    "#entries=tree.GetEntries()\n",
    "\n",
    "print \"Entries = \", entries"
   ]
  },
  {
   "cell_type": "code",
   "execution_count": 11,
   "metadata": {},
   "outputs": [
    {
     "name": "stdout",
     "output_type": "stream",
     "text": [
      "F. 0.0 SXrdFileInfo\n",
      "F.mName 0.0 TString\n",
      "F.mOpenTime 1554101997.0 Long64_t\n",
      "Using GetValue(i) method, S.mSite is =  0.0\n",
      "But actually it is  S.mSite         = T2_US_Purdue\n",
      "\n"
     ]
    }
   ],
   "source": [
    "import string\n",
    "from ROOT import AddressOf\n",
    "for i in xrange(entries):\n",
    "    tree.GetEntry(i)\n",
    "    j=0\n",
    "    for l in tree.GetListOfLeaves():\n",
    "        j=j+1\n",
    "        print l.GetName(), tree.GetLeaf(l.GetName()).GetValue(i), tree.GetLeaf(l.GetName()).GetTypeName() # , tree.GetLeaf(l.GetName()).GetLen()\n",
    "        if j == 3: break  \n",
    "        \n",
    "    # WANT for python: sprintf(val,\"%s\",(char*)leaf->GetValuePointer());\n",
    "    print \"Using GetValue(i) method, S.mSite is = \",tree.GetLeaf(\"S.mSite\").GetValue(i) #,tree.GetLeaf(\"S.mDomain\").PrintValue(i)\n",
    "    print \"But actually it is \",\n",
    "    tree.GetLeaf(\"S.mSite\").PrintValue(i) #,tree.GetLeaf(\"S.mDomain\").PrintValue(i)\n",
    "    break\n"
   ]
  },
  {
   "cell_type": "markdown",
   "metadata": {},
   "source": [
    "## Using etejedor's Suggestion"
   ]
  },
  {
   "cell_type": "code",
   "execution_count": 14,
   "metadata": {},
   "outputs": [
    {
     "ename": "AttributeError",
     "evalue": "'TTree' object has no attribute 'mName'",
     "output_type": "error",
     "traceback": [
      "\u001b[0;31m\u001b[0m",
      "\u001b[0;31mAttributeError\u001b[0mTraceback (most recent call last)",
      "\u001b[0;32m<ipython-input-14-33f55e2f0a6d>\u001b[0m in \u001b[0;36m<module>\u001b[0;34m()\u001b[0m\n\u001b[1;32m      1\u001b[0m \u001b[0;32mfor\u001b[0m \u001b[0mentry\u001b[0m \u001b[0;32min\u001b[0m \u001b[0mtree\u001b[0m\u001b[0;34m:\u001b[0m\u001b[0;34m\u001b[0m\u001b[0m\n\u001b[0;32m----> 2\u001b[0;31m     \u001b[0;32mprint\u001b[0m\u001b[0;34m(\u001b[0m\u001b[0mentry\u001b[0m\u001b[0;34m.\u001b[0m\u001b[0mmName\u001b[0m\u001b[0;34m)\u001b[0m\u001b[0;34m\u001b[0m\u001b[0m\n\u001b[0m",
      "\u001b[0;31mAttributeError\u001b[0m: 'TTree' object has no attribute 'mName'"
     ]
    }
   ],
   "source": [
    "for entry in tree:\n",
    "    print(entry.mName)\n"
   ]
  },
  {
   "cell_type": "markdown",
   "metadata": {
    "collapsed": true
   },
   "source": [
    "## The End"
   ]
  }
 ],
 "metadata": {
  "kernelspec": {
   "display_name": "Python 2",
   "language": "python",
   "name": "python2"
  },
  "language_info": {
   "codemirror_mode": {
    "name": "ipython",
    "version": 2
   },
   "file_extension": ".py",
   "mimetype": "text/x-python",
   "name": "python",
   "nbconvert_exporter": "python",
   "pygments_lexer": "ipython2",
   "version": "2.7.13"
  }
 },
 "nbformat": 4,
 "nbformat_minor": 2
}
