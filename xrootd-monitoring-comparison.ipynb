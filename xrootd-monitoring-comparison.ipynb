{
 "cells": [
  {
   "cell_type": "markdown",
   "metadata": {},
   "source": [
    "# [1] Number based on the root file root://gftp-1.t2.ucsd.edu:1094//store/user/matevz/xmfar-2019-04-partial.root"
   ]
  },
  {
   "cell_type": "code",
   "execution_count": 69,
   "metadata": {},
   "outputs": [
    {
     "name": "stdout",
     "output_type": "stream",
     "text": [
      "INFO T2_US_Florida 2019-04-01 2019-04-02T02:5[0-9] 603\n"
     ]
    }
   ],
   "source": [
    "%%bash\n",
    "source xrdmonitoring-functions\n",
    "s=T2_US_Florida\n",
    "YMD=2019-04-01 ; TIME=2019-04-02T02:5\\[0-9\\]\n",
    "#ls -al XrdMonitorCreateTextForXmfarMatevz.txt\n",
    "echo INFO $s $YMD $TIME $(xrdmonitoring_ndays_ago_plus_one_count $s $YMD | grep \"$TIME\" |wc -l)"
   ]
  },
  {
   "cell_type": "markdown",
   "metadata": {},
   "source": [
    "# [2] Number based on the Grafana"
   ]
  },
  {
   "cell_type": "code",
   "execution_count": 68,
   "metadata": {
    "scrolled": false
   },
   "outputs": [
    {
     "name": "stdout",
     "output_type": "stream",
     "text": [
      "INFO T2_US_Florida 2019-04-01 2019-04-02T02:5[0-9] 316\n"
     ]
    }
   ],
   "source": [
    "%%bash\n",
    "source grafana-functions\n",
    "s=T2_US_Florida\n",
    "YMD=2019-04-01 ; TIME=2019-04-02T02:5\\[0-9\\]\n",
    "echo INFO $s $YMD $TIME $(expr 0$(grafana_xrootd_ndays_ago_plus_one_count T2_US_Florida $YMD | grep \"$TIME\" | cut -d, -f3 | awk '{print \" + \"$1}'))"
   ]
  },
  {
   "cell_type": "markdown",
   "metadata": {},
   "source": [
    "# The End"
   ]
  },
  {
   "cell_type": "code",
   "execution_count": 61,
   "metadata": {},
   "outputs": [
    {
     "name": "stdout",
     "output_type": "stream",
     "text": [
      "expr $(echo 0$(grafana_xrootd_yesterday_count  | grep \"2019-04-10T04:5[0-9]\" | cut -d, -f3 | awk \"{print \\\" + \\\"$1}\"))\n",
      "grep \"TIME1=20190410 00:5[0-9]\" ftl_create_xrootd_conns_diff_data.20190410.txt | awk \"{print $1\\\" \\\"$2}\" |  wc -l\n"
     ]
    }
   ],
   "source": [
    "%%bash\n",
    "#pwd\n",
    "#grep Scan *.ipynb\n",
    "#pwd\n",
    "source grafana-functions\n",
    "grafana_xrootd_local_mon_file_count\n"
   ]
  },
  {
   "cell_type": "code",
   "execution_count": 62,
   "metadata": {
    "scrolled": false
   },
   "outputs": [],
   "source": [
    "%%bash\n",
    "#pwd\n",
    "#grep Scan *.ipynb\n",
    "#pwd\n",
    "#source grafana-functions\n",
    "#grafana_xrootd_local_mon_file_count\n",
    "#grafana_xrootd_yesterday_count"
   ]
  },
  {
   "cell_type": "code",
   "execution_count": 63,
   "metadata": {},
   "outputs": [],
   "source": [
    "%%bash\n",
    "wanted=2019-04-12\n",
    "wanted_day=$(date -d \"$wanted\" +%d)\n",
    "today=$(date +%d)\n",
    "days_ago=$(expr $today - $wanted_day)\n",
    "pastfuture=\"ago\"\n",
    "[ $days_ago -lt 0 ] && pastfuture=\"\"\n",
    "#echo DEBUG date -d \"$days_ago days $pastfuture\" +%d\n",
    "Ymd=$(date -d \"$days_ago days $pastfuture\" +%Y-%m-%d)\n",
    "wanted_day_plus_1=$(date -d \"1 day $Ymd\" +%d)\n",
    "days_ago_plus_1=$(expr $today - $wanted_day_plus_1)\n",
    "#echo $days_ago $days_ago_plus_1\n"
   ]
  },
  {
   "cell_type": "code",
   "execution_count": null,
   "metadata": {
    "collapsed": true
   },
   "outputs": [],
   "source": []
  }
 ],
 "metadata": {
  "kernelspec": {
   "display_name": "Python 2",
   "language": "python",
   "name": "python2"
  },
  "language_info": {
   "codemirror_mode": {
    "name": "ipython",
    "version": 2
   },
   "file_extension": ".py",
   "mimetype": "text/x-python",
   "name": "python",
   "nbconvert_exporter": "python",
   "pygments_lexer": "ipython2",
   "version": "2.7.13"
  }
 },
 "nbformat": 4,
 "nbformat_minor": 2
}
