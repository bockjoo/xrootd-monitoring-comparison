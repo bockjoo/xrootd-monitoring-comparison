{
 "cells": [
  {
   "cell_type": "markdown",
   "metadata": {},
   "source": [
    "## [1] File count and transfer volume based on the Grafana"
   ]
  },
  {
   "cell_type": "code",
   "execution_count": 14,
   "metadata": {
    "scrolled": false
   },
   "outputs": [
    {
     "name": "stdout",
     "output_type": "stream",
     "text": [
      "INFO UTC HOUR NOW: 02\n",
      "INFO UTC HOUR NOW: 02 Site=T2_US_Florida Wanted Date=2019-04-26 Search Tim=2019-04-27T23\n",
      "INFO grafana_numbers on 2019-04-27 from 23:00:00 23:59:59\n",
      "INFO File Count: 2430\n",
      "INFO Transf Vol: 732.32GB\n"
     ]
    }
   ],
   "source": [
    "%%bash\n",
    "# Grafana Parameters\n",
    "grafana=\"https://monit-grafana.cern.ch/api/datasources/proxy/8035/query?db=monit_production_transfer\" \n",
    "field_keys=\"src_experiment_site,count,transferred_volume,avg_operation_time,avg_file_size\"\n",
    "rp=\"one_month\"\n",
    "experiment=\"transfer_xrootd\"\n",
    "\n",
    "# Day Parameters and Input Parameters\n",
    "HOUR_Z=$(date -u +%H)\n",
    "echo INFO UTC HOUR NOW: $HOUR_Z\n",
    "HOUR_W=10\n",
    "HOUR_W=19\n",
    "HOUR_W=23\n",
    "HOUR_W=04\n",
    "YMD=2019-04-05\n",
    "YMD=2019-04-10\n",
    "YMD=2019-04-26\n",
    "YMD=2019-04-27\n",
    "YMD_1DAY=$(date -d \"1 day $YMD\" +%Y-%m-%d)\n",
    "#input_root=xmfar-2019-04-partial.root\n",
    "wanted=$YMD\n",
    "TIME=${YMD_1DAY}T${HOUR_W}\n",
    "\n",
    "wanted_day=$(date -d \"$wanted\" +%d) ; today=$(date +%d)\n",
    "days_ago=$(expr $today - $wanted_day)\n",
    "\n",
    "pastfuture=\"ago\" ; [ $days_ago -lt 0 ] && pastfuture=\"\" ; Ymd=$(date -d \"$days_ago days $pastfuture\" +%Y-%m-%d) ; wanted_day_plus_1=$(date -d \"1 day $Ymd\" +%d)\n",
    "days_ago_plus_1=$(expr $today - $wanted_day_plus_1)\n",
    "\n",
    "# Site\n",
    "s=T2_US_Florida\n",
    "\n",
    "# Grafana search condition\n",
    "condition=\"vo='cms' AND ( remote_access =~ /^true/ OR remote_access =~ /^false/ ) AND technology = 'xrootd' AND time >= now() - ${days_ago}d and time <= now() - ${days_ago_plus_1}d AND src_experiment_site = '$s'\"\n",
    "echo INFO UTC HOUR NOW: $HOUR_Z Site=$s Wanted Date=$wanted Search Tim=$TIME\n",
    "\n",
    "volume=0.0\n",
    "countsum=0\n",
    "grafana_number=$(curl -G -H \"Authorization: Bearer $(cat token.txt)\" \"$grafana\" --data-urlencode \\\n",
    "  \"q=SELECT $field_keys from ${rp}.${experiment} WHERE $condition\" 2>/dev/null | \\\n",
    "  sed \"s#\\[\\\"#\\n\\[\\\"#g\" | \\\n",
    "  grep \"\\[\\\"[0-9][0-9][0-9][0-9]\" | grep $TIME | \\\n",
    "  while read line ; do \n",
    "     time=$(echo $line | cut -d\\\" -f2)\n",
    "     transferred_volume=$(echo $line | cut -d, -f4)\n",
    "     count=$(echo $line | cut -d, -f3)\n",
    "     volume=$(echo \"scale=2 ; $volume + $transferred_volume\" | bc )\n",
    "     countsum=$(echo \"scale=2 ; $countsum + $count\" | bc)\n",
    "     echo $time $volume $(echo \"scale=2 ; $volume / 1024 / 1024\" | bc)\"MB\" $countsum $transferred_volume\n",
    "   done | tail -1)\n",
    "   \n",
    "echo INFO grafana_numbers on $(echo $TIME | cut -dT -f1) from $HOUR_W:00:00 $HOUR_W:59:59\n",
    "echo INFO \"File Count\": $(echo $grafana_number | awk '{print $(NF-1)}')\n",
    "#TranferVol=$(echo $grafana_number | awk '{print $(NF-2)}' | sed 's#MB##')\n",
    "TranferVol=$(echo $grafana_number | awk '{print $(NF-2)}' | sed 's#MB##')\n",
    "echo INFO \"Transf Vol\": $(echo \"scale=2 ; $TranferVol / 1024 \" | bc)\"GB\"\n"
   ]
  },
  {
   "cell_type": "markdown",
   "metadata": {},
   "source": [
    "## [4-1] File Count Based on the xrootd-monitoring-collector running on this machine:\n",
    "( https://github.com/opensciencegrid/xrootd-monitoring-collector )\n",
    "\n",
    "xrootd.monitor all auth flush io 60s ident 5m mbuff 8k rbuff 4k rnums 3 window 10s fstat 10 lfn ops xfr 5 dest files io info user redir xrootd.t2.ucsd.edu:9930 dest fstat info user 128.227.221.23:9930"
   ]
  },
  {
   "cell_type": "code",
   "execution_count": 15,
   "metadata": {},
   "outputs": [
    {
     "name": "stdout",
     "output_type": "stream",
     "text": [
      "INFO UTC HOUR NOW: 02\n",
      "INFO UTC HOUR NOW: 02 Site=T2_US_Florida Wanted Date=2019-04-26 Search Tim=2019-04-27T23\n",
      "INFO collector_numbers on 2019-04-27 from 23:00:00 23:59:59\n",
      "INFO File Count: 656\n",
      "INFO Transf Vol: 167.66GB\n"
     ]
    }
   ],
   "source": [
    "%%bash\n",
    "# Day Parameters and Input Parameters\n",
    "HOUR_Z=$(date -u +%H)\n",
    "echo INFO UTC HOUR NOW: $HOUR_Z\n",
    "HOUR_W=10\n",
    "HOUR_W=19\n",
    "HOUR_W=21\n",
    "HOUR_W=23\n",
    "YMD=2019-04-05\n",
    "YMD=2019-04-10\n",
    "YMD=2019-04-26\n",
    "YMD_1DAY=$(date -d \"1 day $YMD\" +%Y-%m-%d)\n",
    "#input_root=xmfar-2019-04-partial.root\n",
    "wanted=$YMD\n",
    "TIME=${YMD_1DAY}T${HOUR_W}\n",
    "\n",
    "wanted_day=$(date -d \"$wanted\" +%d) ; today=$(date +%d)\n",
    "days_ago=$(expr $today - $wanted_day)\n",
    "\n",
    "pastfuture=\"ago\" ; [ $days_ago -lt 0 ] && pastfuture=\"\" ; Ymd=$(date -d \"$days_ago days $pastfuture\" +%Y-%m-%d) ; wanted_day_plus_1=$(date -d \"1 day $Ymd\" +%d)\n",
    "days_ago_plus_1=$(expr $today - $wanted_day_plus_1)\n",
    "\n",
    "# Site\n",
    "s=T2_US_Florida\n",
    "echo INFO UTC HOUR NOW: $HOUR_Z Site=$s Wanted Date=$wanted Search Tim=$TIME\n",
    "#tail -1 wlcg_record.log\n",
    "volume=0.0\n",
    "countsum=0\n",
    "collector_numbers=$(zgrep \"^$TIME\" wlcg_record.log* | \\\n",
    "  while read line ; do\n",
    "     echo $line\n",
    "     time=$(echo $line | awk '{print $1}')\n",
    "     transferred_volume=$(echo $line | awk '{print $4}')\n",
    "     count=1 # $(echo $line | cut -d, -f3)\n",
    "     volume=$(echo \"scale=2 ; $volume + $transferred_volume\" | bc )\n",
    "     countsum=$(echo \"scale=2 ; $countsum + $count\" | bc)\n",
    "     echo $time $volume $(echo \"scale=2 ; $volume / 1024 / 1024\" | bc)\"MB\" $countsum $transferred_volume\n",
    "     #break\n",
    "  done | tail -1)\n",
    "   \n",
    "echo INFO collector_numbers on $(echo $TIME | cut -dT -f1) from $HOUR_W:00:00 $HOUR_W:59:59\n",
    "echo INFO \"File Count\": $(echo $collector_numbers | awk '{print $(NF-1)}')\n",
    "#TranferVol=$(echo $grafana_number | awk '{print $(NF-2)}' | sed 's#MB##')\n",
    "TranferVol=$(echo $collector_numbers | awk '{print $(NF-2)}' | sed 's#MB##')\n",
    "echo INFO \"Transf Vol\": $(echo \"scale=2 ; $TranferVol / 1024 \" | bc)\"GB\"\n"
   ]
  },
  {
   "cell_type": "markdown",
   "metadata": {},
   "source": [
    "## [4-2] File Count Based on the xrootd-monitoring-collector running on this machine:\n",
    "( https://github.com/opensciencegrid/xrootd-monitoring-collector )\n",
    "\n",
    "xrootd.monitor all auth flush 30s window 5s fstat 60 lfn ops xfr 5 dest files io info user xrootd.t2.ucsd.edu:9930 dest fstat info user 128.227.221.23:9930"
   ]
  },
  {
   "cell_type": "code",
   "execution_count": 16,
   "metadata": {},
   "outputs": [
    {
     "name": "stdout",
     "output_type": "stream",
     "text": [
      "INFO UTC HOUR NOW: 13\n",
      "INFO UTC HOUR NOW: 13 Site=T2_US_Florida Wanted Date=2019-04-27 Search Tim=2019-04-28T04\n",
      "INFO collector_numbers on 2019-04-28 from 04:00:00 04:59:59\n",
      "INFO File Count:\n",
      "INFO Transf Vol: GB\n"
     ]
    },
    {
     "name": "stderr",
     "output_type": "stream",
     "text": [
      "awk: cmd. line:1: (FILENAME=- FNR=1) fatal: attempt to access field -1\n",
      "awk: cmd. line:1: (FILENAME=- FNR=1) fatal: attempt to access field -2\n",
      "(standard_in) 1: syntax error\n"
     ]
    }
   ],
   "source": [
    "%%bash\n",
    "# Day Parameters and Input Parameters\n",
    "HOUR_Z=$(date -u +%H)\n",
    "echo INFO UTC HOUR NOW: $HOUR_Z\n",
    "HOUR_W=10\n",
    "HOUR_W=19\n",
    "HOUR_W=21\n",
    "HOUR_W=23\n",
    "HOUR_W=04\n",
    "YMD=2019-04-05\n",
    "YMD=2019-04-10\n",
    "YMD=2019-04-26\n",
    "YMD=2019-04-27\n",
    "YMD_1DAY=$(date -d \"1 day $YMD\" +%Y-%m-%d)\n",
    "#input_root=xmfar-2019-04-partial.root\n",
    "wanted=$YMD\n",
    "TIME=${YMD_1DAY}T${HOUR_W}\n",
    "\n",
    "wanted_day=$(date -d \"$wanted\" +%d) ; today=$(date +%d)\n",
    "days_ago=$(expr $today - $wanted_day)\n",
    "\n",
    "pastfuture=\"ago\" ; [ $days_ago -lt 0 ] && pastfuture=\"\" ; Ymd=$(date -d \"$days_ago days $pastfuture\" +%Y-%m-%d) ; wanted_day_plus_1=$(date -d \"1 day $Ymd\" +%d)\n",
    "days_ago_plus_1=$(expr $today - $wanted_day_plus_1)\n",
    "\n",
    "# Site\n",
    "s=T2_US_Florida\n",
    "echo INFO UTC HOUR NOW: $HOUR_Z Site=$s Wanted Date=$wanted Search Tim=$TIME\n",
    "#tail -1 wlcg_record.log\n",
    "volume=0.0\n",
    "countsum=0\n",
    "collector_numbers=$(zgrep \"^$TIME\" wlcg_record.log* | \\\n",
    "  while read line ; do\n",
    "     echo $line\n",
    "     time=$(echo $line | awk '{print $1}')\n",
    "     transferred_volume=$(echo $line | awk '{print $4}')\n",
    "     count=1 # $(echo $line | cut -d, -f3)\n",
    "     volume=$(echo \"scale=2 ; $volume + $transferred_volume\" | bc )\n",
    "     countsum=$(echo \"scale=2 ; $countsum + $count\" | bc)\n",
    "     echo $time $volume $(echo \"scale=2 ; $volume / 1024 / 1024\" | bc)\"MB\" $countsum $transferred_volume\n",
    "     #break\n",
    "  done | tail -1)\n",
    "   \n",
    "echo INFO collector_numbers on $(echo $TIME | cut -dT -f1) from $HOUR_W:00:00 $HOUR_W:59:59\n",
    "echo INFO \"File Count\": $(echo $collector_numbers | awk '{print $(NF-1)}')\n",
    "#TranferVol=$(echo $grafana_number | awk '{print $(NF-2)}' | sed 's#MB##')\n",
    "TranferVol=$(echo $collector_numbers | awk '{print $(NF-2)}' | sed 's#MB##')\n",
    "echo INFO \"Transf Vol\": $(echo \"scale=2 ; $TranferVol / 1024 \" | bc)\"GB\"\n"
   ]
  },
  {
   "cell_type": "code",
   "execution_count": null,
   "metadata": {},
   "outputs": [],
   "source": [
    "#no good xrootd.monitor all auth flush 30s window 5s fstat 60 lfn ops xfr 5 dest files io info user xrootd.t2.ucsd.edu:9930 dest fstat info user 128.227.221.23:9930\n",
    "#no good xrootd.monitor all auth flush io 60s ident 5m mbuff 8k rbuff 4k rnums 3 window 10s fstat 10 lfn ops xfr 5 dest files io info user redir xrootd.t2.ucsd.edu:9930 dest fstat info user 128.227.221.23:9930\n"
   ]
  },
  {
   "cell_type": "markdown",
   "metadata": {},
   "source": [
    "## [2] Unique File count based on the root file at UCSD collector:\n",
    "root://gftp-1.t2.ucsd.edu:1094//store/user/matevz/xmfar-2019-04-partial.root"
   ]
  },
  {
   "cell_type": "code",
   "execution_count": 9,
   "metadata": {},
   "outputs": [
    {
     "name": "stdout",
     "output_type": "stream",
     "text": [
      "INFO UTC HOUR NOW: 15\n",
      "INFO xrd_numbers on 2019-04-11 from 10:00:00 10:59:59\n",
      "INFO rBsum_count : 12303.7034521 1477\n",
      "INFO File Count: 1477\n",
      "INFO Transf Vol: 12.01GB\n"
     ]
    },
    {
     "name": "stderr",
     "output_type": "stream",
     "text": [
      "TClass::Init:0: RuntimeWarning: no dictionary for class SXrdFileInfo is available\n",
      "TClass::Init:0: RuntimeWarning: no dictionary for class SRange is available\n",
      "TClass::Init:0: RuntimeWarning: no dictionary for class SXrdUserInfo is available\n",
      "TClass::Init:0: RuntimeWarning: no dictionary for class SXrdServerInfo is available\n"
     ]
    }
   ],
   "source": [
    "%%bash\n",
    "# Day Parameters and Input Parameters\n",
    "HOUR_Z=$(date -u +%H)\n",
    "echo INFO UTC HOUR NOW: $HOUR_Z\n",
    "HOUR_W=10\n",
    "YMD=2019-04-05\n",
    "YMD=2019-04-10\n",
    "YMD_1DAY=$(date -d \"1 day $YMD\" +%Y-%m-%d)\n",
    "input_root=xmfar-2019-04-partial.root\n",
    "wanted=$YMD\n",
    "TIME=${YMD_1DAY}T${HOUR_W}\n",
    "\n",
    "wanted_day=$(date -d \"$wanted\" +%d) ; today=$(date +%d)\n",
    "days_ago=$(expr $today - $wanted_day)\n",
    "\n",
    "pastfuture=\"ago\" ; [ $days_ago -lt 0 ] && pastfuture=\"\" ; Ymd=$(date -d \"$days_ago days $pastfuture\" +%Y-%m-%d) ; wanted_day_plus_1=$(date -d \"1 day $Ymd\" +%d)\n",
    "days_ago_plus_1=$(expr $today - $wanted_day_plus_1)\n",
    "\n",
    "# Site\n",
    "s=T2_US_Florida\n",
    "\n",
    "cat << 'EOF' > readxmfarROOT.py\n",
    "import os\n",
    "import sys\n",
    "import ROOT\n",
    "import string\n",
    "from datetime import datetime\n",
    "    \n",
    "root_file=\"xmfar-2019-04-partial.root\"\n",
    "root_file=str(sys.argv[1])\n",
    "#YMD=str(sys.argv[2])\n",
    "#YMD_1DAY=str(sys.argv[3])\n",
    "TIME=str(sys.argv[2])\n",
    "tfile = ROOT.TFile.Open(root_file)\n",
    "tree = tfile.Get(\"XrdFar\")\n",
    "count=0\n",
    "rBsum=0.0\n",
    "lfs=[]\n",
    "for entry in tree:\n",
    "    sN=str(getattr(entry,'S.mSite'))\n",
    "    if 'T2_US_Florida' not in sN : continue\n",
    "    rB=entry.GetLeaf('F.mRTotalMB').GetValue()\n",
    "    wB=entry.GetLeaf('F.mWTotalMB').GetValue()\n",
    "    t1=entry.GetLeaf('F.mOpenTime').GetValue()\n",
    "    t2=entry.GetLeaf('F.mCloseTime').GetValue()\n",
    "    sB=entry.GetLeaf('F.mSizeMB').GetValue()\n",
    "    ap=str(getattr(entry,'U.mAppInfo'))\n",
    "    lF=str(getattr(entry,'F.mName'))\n",
    "    rN=str(getattr(entry,'U.mRealName'))\n",
    "    closetime=str(datetime.utcfromtimestamp(t2).strftime('%Y-%m-%dT%H:%M:%SZ'))\n",
    "    if lF in lfs : continue\n",
    "    lfs.append(lF)\n",
    "    if TIME not in closetime: continue\n",
    "    count=count+1\n",
    "    #print datetime.utcfromtimestamp(t2).strftime('%Y-%m-%dT%H:%M:%SZ'),\" \",\"[\",i,\"]\",\" \",t2,\" \",t1,\" \",rB,\" \",wB,\" \",sB,\" \",sN,\" \",lF,rN,ap\n",
    "    rBsum=rBsum+rB\n",
    "print rBsum,\" \",count\n",
    "EOF\n",
    "rBsum_count=$(python readxmfarROOT.py $input_root $TIME | tail -1)\n",
    "echo INFO xrd_numbers on $(echo $TIME | cut -dT -f1) from $HOUR_W:00:00 $HOUR_W:59:59\n",
    "echo INFO rBsum_count : $rBsum_count\n",
    "echo INFO \"File Count\": $(echo $rBsum_count | awk '{print $NF}')\n",
    "TranferVol=$(echo $rBsum_count | awk '{print $(NF-1)}')\n",
    "echo INFO \"Transf Vol\": $(echo \"scale=2 ; $TranferVol / 1024 \" | bc)\"GB\"\n"
   ]
  },
  {
   "cell_type": "markdown",
   "metadata": {},
   "source": [
    "## [3] File count based on the root file at UCSD collector at various hours"
   ]
  },
  {
   "cell_type": "code",
   "execution_count": 5,
   "metadata": {},
   "outputs": [
    {
     "name": "stdout",
     "output_type": "stream",
     "text": [
      "INFO UTC HOUR NOW: 16\n",
      "INFO xrd_numbers on 2019-04-06 from 17:00:00 17:59:59\n",
      "INFO rBsum_count : 1283964.81733 3856\n",
      "INFO File Count: 3856\n",
      "INFO Transf Vol: 1253.87GB\n"
     ]
    },
    {
     "name": "stderr",
     "output_type": "stream",
     "text": [
      "bash: line 22: \n",
      "INFO UTC HOUR NOW: 14\n",
      "INFO xrd_numbers on 2019-04-06 from 14:00:00 14:59:59\n",
      "INFO rBsum_count : 1061049.32048 3355\n",
      "INFO File Count: 3355\n",
      "INFO Transf Vol: 1036.18GB\n",
      "INFO UTC HOUR NOW: 14\n",
      "INFO xrd_numbers on 2019-04-06 from 06:00:00 06:59:59\n",
      "INFO rBsum_count : 1591285.73839 4221\n",
      "INFO File Count: 4221\n",
      "INFO Transf Vol: 1553.98GB\n",
      "INFO UTC HOUR NOW: 15\n",
      "INFO xrd_numbers on 2019-04-06 from 03:00:00 03:59:59\n",
      "INFO rBsum_count : 1545040.72374 4531\n",
      "INFO File Count: 4531\n",
      "INFO Transf Vol: 1508.82GB\n",
      ": command not found\n",
      "TClass::Init:0: RuntimeWarning: no dictionary for class SXrdFileInfo is available\n",
      "TClass::Init:0: RuntimeWarning: no dictionary for class SRange is available\n",
      "TClass::Init:0: RuntimeWarning: no dictionary for class SXrdUserInfo is available\n",
      "TClass::Init:0: RuntimeWarning: no dictionary for class SXrdServerInfo is available\n"
     ]
    }
   ],
   "source": [
    "%%bash\n",
    "# Day Parameters and Input Parameters\n",
    "HOUR_Z=$(date -u +%H)\n",
    "echo INFO UTC HOUR NOW: $HOUR_Z\n",
    "HOUR_W=14\n",
    "HOUR_W=06\n",
    "\"\"\"\n",
    "INFO UTC HOUR NOW: 14\n",
    "INFO xrd_numbers on 2019-04-06 from 14:00:00 14:59:59\n",
    "INFO rBsum_count : 1061049.32048 3355\n",
    "INFO File Count: 3355\n",
    "INFO Transf Vol: 1036.18GB\n",
    "INFO UTC HOUR NOW: 14\n",
    "INFO xrd_numbers on 2019-04-06 from 06:00:00 06:59:59\n",
    "INFO rBsum_count : 1591285.73839 4221\n",
    "INFO File Count: 4221\n",
    "INFO Transf Vol: 1553.98GB\n",
    "INFO UTC HOUR NOW: 15\n",
    "INFO xrd_numbers on 2019-04-06 from 03:00:00 03:59:59\n",
    "INFO rBsum_count : 1545040.72374 4531\n",
    "INFO File Count: 4531\n",
    "INFO Transf Vol: 1508.82GB\n",
    "INFO UTC HOUR NOW: 16\n",
    "INFO xrd_numbers on 2019-04-06 from 17:00:00 17:59:59\n",
    "INFO rBsum_count : 1283964.81733 3856\n",
    "INFO File Count: 3856\n",
    "INFO Transf Vol: 1253.87GB\n",
    "\"\"\"\n",
    "HOUR_W=03\n",
    "HOUR_W=17\n",
    "YMD=2019-04-05\n",
    "YMD_1DAY=$(date -d \"1 day $YMD\" +%Y-%m-%d)\n",
    "input_root=xmfar-2019-04-partial.root\n",
    "wanted=$YMD\n",
    "TIME=${YMD_1DAY}T${HOUR_W}\n",
    "\n",
    "wanted_day=$(date -d \"$wanted\" +%d) ; today=$(date +%d)\n",
    "days_ago=$(expr $today - $wanted_day)\n",
    "\n",
    "pastfuture=\"ago\" ; [ $days_ago -lt 0 ] && pastfuture=\"\" ; Ymd=$(date -d \"$days_ago days $pastfuture\" +%Y-%m-%d) ; wanted_day_plus_1=$(date -d \"1 day $Ymd\" +%d)\n",
    "days_ago_plus_1=$(expr $today - $wanted_day_plus_1)\n",
    "\n",
    "# Site\n",
    "s=T2_US_Florida\n",
    "\n",
    "cat << 'EOF' > readxmfarROOT.py\n",
    "import os\n",
    "import sys\n",
    "import ROOT\n",
    "import string\n",
    "from datetime import datetime\n",
    "    \n",
    "root_file=\"xmfar-2019-04-partial.root\"\n",
    "root_file=str(sys.argv[1])\n",
    "#YMD=str(sys.argv[2])\n",
    "#YMD_1DAY=str(sys.argv[3])\n",
    "TIME=str(sys.argv[2])\n",
    "tfile = ROOT.TFile.Open(root_file)\n",
    "tree = tfile.Get(\"XrdFar\")\n",
    "count=0\n",
    "rBsum=0.0\n",
    "for entry in tree:\n",
    "    sN=str(getattr(entry,'S.mSite'))\n",
    "    if 'T2_US_Florida' not in sN : continue\n",
    "    rB=entry.GetLeaf('F.mRTotalMB').GetValue()\n",
    "    wB=entry.GetLeaf('F.mWTotalMB').GetValue()\n",
    "    t1=entry.GetLeaf('F.mOpenTime').GetValue()\n",
    "    t2=entry.GetLeaf('F.mCloseTime').GetValue()\n",
    "    sB=entry.GetLeaf('F.mSizeMB').GetValue()\n",
    "    ap=str(getattr(entry,'U.mAppInfo'))\n",
    "    lF=str(getattr(entry,'F.mName'))\n",
    "    rN=str(getattr(entry,'U.mRealName'))\n",
    "    closetime=str(datetime.utcfromtimestamp(t2).strftime('%Y-%m-%dT%H:%M:%SZ'))\n",
    "    if TIME not in closetime: continue\n",
    "    count=count+1\n",
    "    #print datetime.utcfromtimestamp(t2).strftime('%Y-%m-%dT%H:%M:%SZ'),\" \",\"[\",i,\"]\",\" \",t2,\" \",t1,\" \",rB,\" \",wB,\" \",sB,\" \",sN,\" \",lF,rN,ap\n",
    "    rBsum=rBsum+rB\n",
    "print rBsum,\" \",count\n",
    "EOF\n",
    "rBsum_count=$(python readxmfarROOT.py $input_root $TIME | tail -1)\n",
    "echo INFO xrd_numbers on $(echo $TIME | cut -dT -f1) from $HOUR_W:00:00 $HOUR_W:59:59\n",
    "echo INFO rBsum_count : $rBsum_count\n",
    "echo INFO \"File Count\": $(echo $rBsum_count | awk '{print $NF}')\n",
    "TranferVol=$(echo $rBsum_count | awk '{print $(NF-1)}')\n",
    "echo INFO \"Transf Vol\": $(echo \"scale=2 ; $TranferVol / 1024 \" | bc)\"GB\"\n"
   ]
  },
  {
   "cell_type": "code",
   "execution_count": null,
   "metadata": {
    "collapsed": true
   },
   "outputs": [],
   "source": [
    "t2=1556332529\n",
    "print datetime.utcfromtimestamp(t2).strftime('%Y-%m-%dT%H:%M:%SZ')\n",
    "#,\" \",\"[\",i,\"]\",\" \",t2,\" \",t1,\" \",rB,\" \",wB,\" \",sB,\" \",sN,\" \",lF,rN,ap\n"
   ]
  },
  {
   "cell_type": "markdown",
   "metadata": {},
   "source": [
    "## Xrdmon and Grafana Transfer Volume Difference in %"
   ]
  },
  {
   "cell_type": "code",
   "execution_count": 6,
   "metadata": {},
   "outputs": [
    {
     "name": "stdout",
     "output_type": "stream",
     "text": [
      "Xrdmon and Grafana Transfer Volume Difference in % : 1.00 %\n"
     ]
    }
   ],
   "source": [
    "%%bash\n",
    "echo Xrdmon and Grafana Transfer Volume Difference in % : $(echo \"scale=2 ; (1501.24 -  1481.62 ) / 1501.24 * 100 \" | bc) %"
   ]
  },
  {
   "cell_type": "markdown",
   "metadata": {},
   "source": [
    "## Xrdmon and Grafana File Count Difference "
   ]
  },
  {
   "cell_type": "code",
   "execution_count": 5,
   "metadata": {},
   "outputs": [
    {
     "name": "stdout",
     "output_type": "stream",
     "text": [
      "Xrdmon and Grafana File Count Difference : 1957 files\n"
     ]
    }
   ],
   "source": [
    "%%bash\n",
    "echo Xrdmon and Grafana File Count Difference : $( expr 5143 - 3186 ) files"
   ]
  },
  {
   "cell_type": "code",
   "execution_count": null,
   "metadata": {
    "collapsed": true
   },
   "outputs": [],
   "source": []
  }
 ],
 "metadata": {
  "kernelspec": {
   "display_name": "Python 2",
   "language": "python",
   "name": "python2"
  },
  "language_info": {
   "codemirror_mode": {
    "name": "ipython",
    "version": 3
   },
   "file_extension": ".py",
   "mimetype": "text/x-python",
   "name": "python",
   "nbconvert_exporter": "python",
   "pygments_lexer": "ipython3",
   "version": "3.7.3"
  }
 },
 "nbformat": 4,
 "nbformat_minor": 2
}
